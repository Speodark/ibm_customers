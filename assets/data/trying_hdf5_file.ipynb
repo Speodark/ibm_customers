{
 "cells": [
  {
   "cell_type": "code",
   "execution_count": 1,
   "id": "ea6d1e72",
   "metadata": {},
   "outputs": [],
   "source": [
    "import vaex\n",
    "import numpy as np\n",
    "import pandas as pd"
   ]
  },
  {
   "cell_type": "code",
   "execution_count": 2,
   "id": "ed4f854e",
   "metadata": {},
   "outputs": [],
   "source": [
    "df = vaex.open('ibm-customers.hdf5')"
   ]
  },
  {
   "cell_type": "code",
   "execution_count": 3,
   "id": "086bd737",
   "metadata": {},
   "outputs": [
    {
     "data": {
      "text/html": [
       "<table>\n",
       "<thead>\n",
       "<tr><th>#                                </th><th>customerID  </th><th>gender  </th><th>tenure  </th><th>InternetService  </th><th>Contract      </th><th>PaymentMethod            </th><th>MonthlyCharges  </th><th>TotalCharges  </th><th>SeniorCitizen  </th><th>Partner  </th><th>Dependents  </th><th>PhoneService  </th><th>MultipleLines  </th><th>OnlineSecurity  </th><th>OnlineBackup  </th><th>DeviceProtection  </th><th>TechSupport  </th><th>StreamingTV  </th><th>StreamingMovies  </th><th>PaperlessBilling  </th><th>Churn  </th></tr>\n",
       "</thead>\n",
       "<tbody>\n",
       "<tr><td><i style='opacity: 0.6'>0</i>    </td><td>7590-VHVEG  </td><td>Female  </td><td>1       </td><td>DSL              </td><td>Month-to-month</td><td>Electronic check         </td><td>29.85           </td><td>29.85         </td><td>False          </td><td>True     </td><td>False       </td><td>False         </td><td>False          </td><td>False           </td><td>True          </td><td>False             </td><td>False        </td><td>False        </td><td>False            </td><td>True              </td><td>False  </td></tr>\n",
       "<tr><td><i style='opacity: 0.6'>1</i>    </td><td>5575-GNVDE  </td><td>Male    </td><td>34      </td><td>DSL              </td><td>One year      </td><td>Mailed check             </td><td>56.95           </td><td>1889.5        </td><td>False          </td><td>False    </td><td>False       </td><td>True          </td><td>False          </td><td>True            </td><td>False         </td><td>True              </td><td>False        </td><td>False        </td><td>False            </td><td>False             </td><td>False  </td></tr>\n",
       "<tr><td><i style='opacity: 0.6'>2</i>    </td><td>3668-QPYBK  </td><td>Male    </td><td>2       </td><td>DSL              </td><td>Month-to-month</td><td>Mailed check             </td><td>53.85           </td><td>108.15        </td><td>False          </td><td>False    </td><td>False       </td><td>True          </td><td>False          </td><td>True            </td><td>True          </td><td>False             </td><td>False        </td><td>False        </td><td>False            </td><td>True              </td><td>True   </td></tr>\n",
       "<tr><td><i style='opacity: 0.6'>3</i>    </td><td>7795-CFOCW  </td><td>Male    </td><td>45      </td><td>DSL              </td><td>One year      </td><td>Bank transfer (automatic)</td><td>42.3            </td><td>1840.75       </td><td>False          </td><td>False    </td><td>False       </td><td>False         </td><td>False          </td><td>True            </td><td>False         </td><td>True              </td><td>True         </td><td>False        </td><td>False            </td><td>False             </td><td>False  </td></tr>\n",
       "<tr><td><i style='opacity: 0.6'>4</i>    </td><td>9237-HQITU  </td><td>Female  </td><td>2       </td><td>Fiber optic      </td><td>Month-to-month</td><td>Electronic check         </td><td>70.7            </td><td>151.65        </td><td>False          </td><td>False    </td><td>False       </td><td>True          </td><td>False          </td><td>False           </td><td>False         </td><td>False             </td><td>False        </td><td>False        </td><td>False            </td><td>True              </td><td>True   </td></tr>\n",
       "<tr><td>...                              </td><td>...         </td><td>...     </td><td>...     </td><td>...              </td><td>...           </td><td>...                      </td><td>...             </td><td>...           </td><td>...            </td><td>...      </td><td>...         </td><td>...           </td><td>...            </td><td>...             </td><td>...           </td><td>...               </td><td>...          </td><td>...          </td><td>...              </td><td>...               </td><td>...    </td></tr>\n",
       "<tr><td><i style='opacity: 0.6'>7,038</i></td><td>6840-RESVB  </td><td>Male    </td><td>24      </td><td>DSL              </td><td>One year      </td><td>Mailed check             </td><td>84.8            </td><td>1990.5        </td><td>False          </td><td>True     </td><td>True        </td><td>True          </td><td>True           </td><td>True            </td><td>False         </td><td>True              </td><td>True         </td><td>True         </td><td>True             </td><td>True              </td><td>False  </td></tr>\n",
       "<tr><td><i style='opacity: 0.6'>7,039</i></td><td>2234-XADUH  </td><td>Female  </td><td>72      </td><td>Fiber optic      </td><td>One year      </td><td>Credit card (automatic)  </td><td>103.2           </td><td>7362.9        </td><td>False          </td><td>True     </td><td>True        </td><td>True          </td><td>True           </td><td>False           </td><td>True          </td><td>True              </td><td>False        </td><td>True         </td><td>True             </td><td>True              </td><td>False  </td></tr>\n",
       "<tr><td><i style='opacity: 0.6'>7,040</i></td><td>4801-JZAZL  </td><td>Female  </td><td>11      </td><td>DSL              </td><td>Month-to-month</td><td>Electronic check         </td><td>29.6            </td><td>346.45        </td><td>False          </td><td>True     </td><td>True        </td><td>False         </td><td>False          </td><td>True            </td><td>False         </td><td>False             </td><td>False        </td><td>False        </td><td>False            </td><td>True              </td><td>False  </td></tr>\n",
       "<tr><td><i style='opacity: 0.6'>7,041</i></td><td>8361-LTMKD  </td><td>Male    </td><td>4       </td><td>Fiber optic      </td><td>Month-to-month</td><td>Mailed check             </td><td>74.4            </td><td>306.6         </td><td>True           </td><td>True     </td><td>False       </td><td>True          </td><td>True           </td><td>False           </td><td>False         </td><td>False             </td><td>False        </td><td>False        </td><td>False            </td><td>True              </td><td>True   </td></tr>\n",
       "<tr><td><i style='opacity: 0.6'>7,042</i></td><td>3186-AJIEK  </td><td>Male    </td><td>66      </td><td>Fiber optic      </td><td>Two year      </td><td>Bank transfer (automatic)</td><td>105.65          </td><td>6844.5        </td><td>False          </td><td>False    </td><td>False       </td><td>True          </td><td>False          </td><td>True            </td><td>False         </td><td>True              </td><td>True         </td><td>True         </td><td>True             </td><td>True              </td><td>False  </td></tr>\n",
       "</tbody>\n",
       "</table>"
      ],
      "text/plain": [
       "#      customerID    gender    tenure    InternetService    Contract        PaymentMethod              MonthlyCharges    TotalCharges    SeniorCitizen    Partner    Dependents    PhoneService    MultipleLines    OnlineSecurity    OnlineBackup    DeviceProtection    TechSupport    StreamingTV    StreamingMovies    PaperlessBilling    Churn\n",
       "0      7590-VHVEG    Female    1         DSL                Month-to-month  Electronic check           29.85             29.85           False            True       False         False           False            False             True            False               False          False          False              True                False\n",
       "1      5575-GNVDE    Male      34        DSL                One year        Mailed check               56.95             1889.5          False            False      False         True            False            True              False           True                False          False          False              False               False\n",
       "2      3668-QPYBK    Male      2         DSL                Month-to-month  Mailed check               53.85             108.15          False            False      False         True            False            True              True            False               False          False          False              True                True\n",
       "3      7795-CFOCW    Male      45        DSL                One year        Bank transfer (automatic)  42.3              1840.75         False            False      False         False           False            True              False           True                True           False          False              False               False\n",
       "4      9237-HQITU    Female    2         Fiber optic        Month-to-month  Electronic check           70.7              151.65          False            False      False         True            False            False             False           False               False          False          False              True                True\n",
       "...    ...           ...       ...       ...                ...             ...                        ...               ...             ...              ...        ...           ...             ...              ...               ...             ...                 ...            ...            ...                ...                 ...\n",
       "7,038  6840-RESVB    Male      24        DSL                One year        Mailed check               84.8              1990.5          False            True       True          True            True             True              False           True                True           True           True               True                False\n",
       "7,039  2234-XADUH    Female    72        Fiber optic        One year        Credit card (automatic)    103.2             7362.9          False            True       True          True            True             False             True            True                False          True           True               True                False\n",
       "7,040  4801-JZAZL    Female    11        DSL                Month-to-month  Electronic check           29.6              346.45          False            True       True          False           False            True              False           False               False          False          False              True                False\n",
       "7,041  8361-LTMKD    Male      4         Fiber optic        Month-to-month  Mailed check               74.4              306.6           True             True       False         True            True             False             False           False               False          False          False              True                True\n",
       "7,042  3186-AJIEK    Male      66        Fiber optic        Two year        Bank transfer (automatic)  105.65            6844.5          False            False      False         True            False            True              False           True                True           True           True               True                False"
      ]
     },
     "execution_count": 3,
     "metadata": {},
     "output_type": "execute_result"
    }
   ],
   "source": [
    "df"
   ]
  },
  {
   "cell_type": "code",
   "execution_count": 5,
   "id": "a44bee63",
   "metadata": {},
   "outputs": [
    {
     "data": {
      "text/plain": [
       "['Female', 'Male']"
      ]
     },
     "execution_count": 5,
     "metadata": {},
     "output_type": "execute_result"
    }
   ],
   "source": [
    "df['gender'].unique()"
   ]
  },
  {
   "cell_type": "code",
   "execution_count": 13,
   "id": "40604f81",
   "metadata": {},
   "outputs": [
    {
     "data": {
      "text/html": [
       "<table>\n",
       "<thead>\n",
       "<tr><th>#                            </th><th>gender  </th><th style=\"text-align: right;\">  count</th></tr>\n",
       "</thead>\n",
       "<tbody>\n",
       "<tr><td><i style='opacity: 0.6'>0</i></td><td>Female  </td><td style=\"text-align: right;\">   3488</td></tr>\n",
       "<tr><td><i style='opacity: 0.6'>1</i></td><td>Male    </td><td style=\"text-align: right;\">   3555</td></tr>\n",
       "</tbody>\n",
       "</table>"
      ],
      "text/plain": [
       "  #  gender      count\n",
       "  0  Female       3488\n",
       "  1  Male         3555"
      ]
     },
     "execution_count": 13,
     "metadata": {},
     "output_type": "execute_result"
    }
   ],
   "source": [
    "df.groupby(['gender'],agg='count')"
   ]
  },
  {
   "cell_type": "code",
   "execution_count": 12,
   "id": "1da4e571",
   "metadata": {},
   "outputs": [
    {
     "data": {
      "text/html": [
       "<table>\n",
       "<thead>\n",
       "<tr><th>#                            </th><th>Churn  </th><th style=\"text-align: right;\">  count</th></tr>\n",
       "</thead>\n",
       "<tbody>\n",
       "<tr><td><i style='opacity: 0.6'>0</i></td><td>False  </td><td style=\"text-align: right;\">   5174</td></tr>\n",
       "<tr><td><i style='opacity: 0.6'>1</i></td><td>True   </td><td style=\"text-align: right;\">   1869</td></tr>\n",
       "</tbody>\n",
       "</table>"
      ],
      "text/plain": [
       "  #  Churn      count\n",
       "  0  False       5174\n",
       "  1  True        1869"
      ]
     },
     "execution_count": 12,
     "metadata": {},
     "output_type": "execute_result"
    }
   ],
   "source": [
    "df.groupby(['Churn'],agg='count')"
   ]
  },
  {
   "cell_type": "code",
   "execution_count": null,
   "id": "a611501a",
   "metadata": {},
   "outputs": [],
   "source": []
  }
 ],
 "metadata": {
  "kernelspec": {
   "display_name": "Python 3 (ipykernel)",
   "language": "python",
   "name": "python3"
  },
  "language_info": {
   "codemirror_mode": {
    "name": "ipython",
    "version": 3
   },
   "file_extension": ".py",
   "mimetype": "text/x-python",
   "name": "python",
   "nbconvert_exporter": "python",
   "pygments_lexer": "ipython3",
   "version": "3.8.10"
  }
 },
 "nbformat": 4,
 "nbformat_minor": 5
}
